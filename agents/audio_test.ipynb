{
 "cells": [
  {
   "cell_type": "code",
   "execution_count": null,
   "metadata": {},
   "outputs": [],
   "source": [
    "sk_c686495be8bbb7a40f9029f8362b7b387c18762e0a245f2f"
   ]
  },
  {
   "cell_type": "code",
   "execution_count": 1,
   "metadata": {},
   "outputs": [
    {
     "name": "stdout",
     "output_type": "stream",
     "text": [
      "Audio file saved as output_audio.mp3\n"
     ]
    }
   ],
   "source": [
    "from elevenlabs import ElevenLabs\n",
    "\n",
    "client = ElevenLabs(\n",
    "    api_key=\"sk_c686495be8bbb7a40f9029f8362b7b387c18762e0a245f2f\",\n",
    ")\n",
    "\n",
    "# Convert text to speech and get the audio stream (generator)\n",
    "audio_stream = client.text_to_speech.convert_as_stream(\n",
    "    voice_id=\"9BWtsMINqrJLrRacOk9x\",\n",
    "    output_format=\"mp3_44100_128\",\n",
    "    text=\"The first move is what sets everything in motion.\",\n",
    "    model_id=\"eleven_multilingual_v2\",\n",
    ")\n",
    "\n",
    "# Save the audio file\n",
    "output_file = \"output_audio.mp3\"\n",
    "with open(output_file, \"wb\") as f:\n",
    "    for chunk in audio_stream:\n",
    "        f.write(chunk)  # Write each chunk to the file\n",
    "\n",
    "print(f\"Audio file saved as {output_file}\")"
   ]
  }
 ],
 "metadata": {
  "kernelspec": {
   "display_name": "venv",
   "language": "python",
   "name": "python3"
  },
  "language_info": {
   "codemirror_mode": {
    "name": "ipython",
    "version": 3
   },
   "file_extension": ".py",
   "mimetype": "text/x-python",
   "name": "python",
   "nbconvert_exporter": "python",
   "pygments_lexer": "ipython3",
   "version": "3.12.0"
  }
 },
 "nbformat": 4,
 "nbformat_minor": 2
}
