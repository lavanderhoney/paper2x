{
 "cells": [
  {
   "cell_type": "code",
   "execution_count": 356,
   "metadata": {},
   "outputs": [
    {
     "data": {
      "text/plain": [
       "True"
      ]
     },
     "execution_count": 356,
     "metadata": {},
     "output_type": "execute_result"
    }
   ],
   "source": [
    "from langchain_ollama import ChatOllama\n",
    "from langchain_groq import ChatGroq\n",
    "from langchain.prompts import ChatPromptTemplate, PromptTemplate, SystemMessagePromptTemplate, HumanMessagePromptTemplate\n",
    "from typing import List, Dict, Any\n",
    "from typing_extensions import TypedDict\n",
    "from langchain_core.output_parsers import StrOutputParser, JsonOutputParser\n",
    "from langgraph.graph import StateGraph, START, END\n",
    "from IPython.display import Image, display\n",
    "from langchain_core.messages import AIMessage, HumanMessage, SystemMessage\n",
    "from langchain_core.output_parsers import PydanticOutputParser\n",
    "import os\n",
    "from dotenv import load_dotenv\n",
    "# from langchain.document_loaders import PyMuPDFLoader\n",
    "from typing import List, Dict, Any, Optional\n",
    "import fitz\n",
    "from pydantic import BaseModel, Field\n",
    "load_dotenv()"
   ]
  },
  {
   "cell_type": "code",
   "execution_count": 357,
   "metadata": {},
   "outputs": [],
   "source": [
    "os.environ[\"LANGSMITH_PROJECT\"] = f\"MineD 2025\""
   ]
  },
  {
   "cell_type": "code",
   "execution_count": 358,
   "metadata": {},
   "outputs": [],
   "source": [
    "from langchain_google_genai import ChatGoogleGenerativeAI\n",
    "llm = ChatGoogleGenerativeAI(\n",
    "    model=\"gemini-1.5-flash\",\n",
    "    temperature=0,\n",
    "    max_tokens=None,\n",
    "    timeout=None,\n",
    "    max_retries=2,\n",
    "    # other params...\n",
    ")"
   ]
  },
  {
   "cell_type": "code",
   "execution_count": 360,
   "metadata": {},
   "outputs": [],
   "source": [
    "# llm = ChatGroq(model=\"gemma2-9b-it\")"
   ]
  },
  {
   "cell_type": "markdown",
   "metadata": {},
   "source": [
    "## LangGraph Agent"
   ]
  },
  {
   "cell_type": "markdown",
   "metadata": {},
   "source": [
    "### Graph State and Data Models"
   ]
  },
  {
   "cell_type": "code",
   "execution_count": null,
   "metadata": {},
   "outputs": [],
   "source": [
    "# Define Pydantic Model for PPT slides\n",
    "class SlideContent(BaseModel):\n",
    "    title: str = Field(..., description=\"Title of the particular slide\")\n",
    "    bullet_points: Optional[List[str]] = Field(None, description=\"Content in bullet points form for the slide\")\n",
    "    notes: Optional[str] = Field(None, description=\"Additional notes for the slide\")\n",
    "    images: Optional[List[str]] = Field(None, description=\"List of relevant image paths for the slide\")\n",
    "\n",
    "class PPTPresentation(BaseModel):\n",
    "    title: str = Field(..., description=\"Title of the presentation\")\n",
    "    authors: List[str] = Field(..., description=\"List of authors of the presentation\")\n",
    "    institution: str = Field(..., description=\"Institution associated with the presentation\")\n",
    "    slides: List[SlideContent] = Field(..., description=\"List of slides, in the presentation,which are SlideContent schemas.\")\n",
    "\n",
    "class Dialogue(BaseModel):\n",
    "    text: str = Field(..., description=\"The text of dialogue\")\n",
    "\n",
    "class Conversation(BaseModel):\n",
    "    katherine: List[Dialogue] = Field(..., description=\"Katherine's dialogues\")\n",
    "    clay: List[Dialogue] = Field(..., description=\"Clay's dialogues\")\n",
    "    order: List[str] = Field(..., description=\"The order of dialogues denoted by the names of the speaker\")\n",
    "\n",
    "class ResPaperExtractState(TypedDict):\n",
    "    pdf_path: Optional[str] = None  # Path to the PDF file\n",
    "    extracted_text: Optional[str] = None  # Full extracted text from the PDF\n",
    "    extracted_images: Optional[Dict[str,str]] = None  # Paths to extracted images\n",
    "    slides_content: Optional[List[Dict[str, str]]] = None  # Prepared content for PowerPoint slides\n",
    "    ppt_object: PPTPresentation\n",
    "    summary_text: str\n",
    "    convo: Conversation\n"
   ]
  },
  {
   "cell_type": "markdown",
   "metadata": {},
   "source": [
    "### Extracting Text from PDF"
   ]
  },
  {
   "cell_type": "code",
   "execution_count": null,
   "metadata": {},
   "outputs": [],
   "source": [
    "def load_pdf(state: ResPaperExtractState):\n",
    "    pdf_path = state[\"pdf_path\"]\n",
    "    doc = fitz.open(pdf_path)  # Load the PDF only once\n",
    "    \n",
    "    extracted_text = []\n",
    "    extracted_images = dict()\n",
    "    output_folder = \"extracted_images\"\n",
    "    os.makedirs(output_folder, exist_ok=True)\n",
    "\n",
    "    # Iterate through each page\n",
    "    img_cntr=1\n",
    "    for page_number, page in enumerate(doc):\n",
    "        # Extract text\n",
    "        text = page.get_text(\"text\")\n",
    "        extracted_text.append(text)\n",
    "\n",
    "        # Extract images\n",
    "        for img_index, img in enumerate(page.get_images(full=True)):\n",
    "            xref = img[0]\n",
    "            base_image = doc.extract_image(xref)\n",
    "            image_bytes = base_image[\"image\"]\n",
    "            image_ext = base_image[\"ext\"]\n",
    "            img_filename = f\"{output_folder}/page_{page_number+1}_img_{img_index+1}.{image_ext}\"\n",
    "            \n",
    "            with open(img_filename, \"wb\") as img_file:\n",
    "                img_file.write(image_bytes)\n",
    "            \n",
    "            extracted_images[f\"Fig{img_cntr}\"] = img_filename\n",
    "            img_cntr+=1\n",
    "\n",
    "    # Combine text from all pages\n",
    "    full_text = \"\\n\".join(extracted_text)\n",
    "\n",
    "    # Update state\n",
    "    return {\"extracted_text\": full_text, \"extracted_images\": extracted_images}"
   ]
  },
  {
   "cell_type": "markdown",
   "metadata": {},
   "source": [
    "### PPT Content Generation"
   ]
  },
  {
   "cell_type": "code",
   "execution_count": null,
   "metadata": {},
   "outputs": [],
   "source": [
    "import re\n",
    "def clean_markdown_output(llm_out: str) -> str:\n",
    "    # Remove leading and trailing triple backticks if present\n",
    "    if not isinstance(llm_out, str):\n",
    "        llm_out = str(llm_out.content)  # Extract string content from AIMessage\n",
    "    return re.sub(r\"^```(?:json)?\\n?|```$\", \"\", llm_out.strip())"
   ]
  },
  {
   "cell_type": "code",
   "execution_count": 368,
   "metadata": {},
   "outputs": [],
   "source": [
    "system_message = SystemMessagePromptTemplate.from_template(\n",
    "    \"\"\"You are an expert in creating PowerPoint presentations. Generate a structured PowerPoint (PPT) presentation \n",
    "    that summarizes a research paper based on the provided extracted text. Follow these instructions:\n",
    "    \n",
    "    Remember that the objective of this PPT is for a third party to understand the key points of the research paper, and \n",
    "    give them a gist of the research paper.\n",
    "\n",
    "    - Title Slide: Include the research paper title, authors, and institution.\n",
    "    - Introduction Slide: Summarize the problem, objectives, and motivation.\n",
    "    - Methods Slide: Briefly explain the methodology, datasets, and experimental setup.\n",
    "    - Results Slide: Summarize key findings with bullet points. Mention any visuals (graphs, tables) found from the extracted text. You should definetly mention in the presentation any figures related to a performance metric or tables that are mentioned in the extracted text.\n",
    "    - Graphics: Include any images of graphs or charts or other images, relevant to the results,or images depicting a performance metric,\n",
    "      that are mentioned in the extracted text. You can find such images by looking for any captions that mention figures or tables. \n",
    "      It is necessary to name this slide as Graphics.\n",
    "      Note that you should only strictly mention the image number, like Fig1, Fig2, etc...\n",
    "      Include only relevant image names. \n",
    "    Discussion Slide: Explain the significance of results and compare with prior work.\n",
    "    - Conclusion Slide: Summarize key takeaways and potential future work.\n",
    "    - References Slide: Include citations if available.\n",
    "\n",
    "    Additional Guidelines:\n",
    "    - Keep slides concise (use bullet points).\n",
    "    - Maintain a professional and visually appealing slide design.\n",
    "    - Give the text in markdown format.\n",
    "    - Each slide should have rich information content, summarizing the information related to the particular slide heading, \n",
    "\n",
    "    Do not format the output in markdown, do not use triple backticks (` ``` `) or JSON code blocks.\n",
    "    Ensure that the response is a valid JSON object that follows the expected schema.\n",
    "    {format_instructions}\n",
    "    \"\"\"\n",
    ")\n",
    "\n",
    "# Human Message: Supplies extracted text from the research paper\n",
    "human_message = HumanMessagePromptTemplate.from_template(\"Here is the extracted text:\\n\\n{extracted_text}\")\n",
    "\n",
    "parser = JsonOutputParser(pydantic_object=PPTPresentation)\n",
    "# Combine into a structured chat prompt\n",
    "chat_prompt = ChatPromptTemplate(\n",
    "    messages=[system_message, human_message],\n",
    "    partial_variables={\"format_instructions\": parser.get_format_instructions()}\n",
    ")\n",
    "\n",
    "def get_data(state):\n",
    "    extracted_text = state[\"extracted_text\"]\n",
    "    \n",
    "    # Format prompt with extracted text\n",
    "    prompt = chat_prompt.invoke({\"extracted_text\": extracted_text})\n",
    "    # Invoke LLM with structured output\n",
    "    llm_out = llm.invoke(prompt)\n",
    "    cleaned_llm_out = clean_markdown_output(llm_out)\n",
    "    parsed = parser.invoke(cleaned_llm_out)\n",
    "\n",
    "    # Parse structured output into Pydantic model\n",
    "    # ppt_object = chain.invoke({\"extracted_text\":extracted_text})\n",
    "    \n",
    "    return {\"ppt_object\": parsed}"
   ]
  },
  {
   "cell_type": "markdown",
   "metadata": {},
   "source": [
    "### Summary for Podcast"
   ]
  },
  {
   "cell_type": "code",
   "execution_count": 369,
   "metadata": {},
   "outputs": [],
   "source": [
    "def generate_summary(state: ResPaperExtractState):\n",
    "    extracted_text = state[\"extracted_text\"]\n",
    "\n",
    "    summary_template_string_2 = \"\"\"\n",
    "        You are an expert science communicator who specializes in breaking down complex research papers into engaging, conversational summaries. Your goal is to generate a summary that will be used to generate text for conversational podcast.\n",
    "        The summary should be structured in a way that makes it engaging for a podcast discussion. \n",
    "        Include thought-provoking questions and key discussion points that make the findings compelling to a general audience.\n",
    "\n",
    "        ### **Instructions:**\n",
    "        - Start with an **intriguing hook** that captures the essence of the paper in an engaging way. \n",
    "        - Clearly state the **research problem** and why it matters.\n",
    "        - Summarize the **key findings** and their implications, but in a way that sparks curiosity.\n",
    "        - **Use an engaging tone** that makes it feel like a conversation rather than a dry summary.\n",
    "        - Include at least **three discussion-worthy questions** that podcast hosts could debate.\n",
    "        - Highlight any **visual elements** that could be useful for a graphical abstract, such as relationships between variables, experimental results, or unexpected insights.\n",
    "\n",
    "        ### **Important Guidelines:**\n",
    "        - Keep it insightful yet engaging—avoid overly technical jargon unless necessary.  \n",
    "        - Don’t make the summary too short; ensure all important elements of the research are covered.  \n",
    "        - Aim for a summary length of **300-500 words** to balance depth with readability.  \n",
    "        - If applicable, include **real-world analogies** or examples to make the findings more relatable. \n",
    "        - Remember, the goal is to make the research accessible and interesting to a broad audience.\n",
    "        - Return a single string with the summary text, acheiving the above objectives. \n",
    "        -Do not format the output in markdown, do not use triple backticks (` ``` `) or JSON code blocks.\n",
    "        Ensure that the response is a valid JSON object that follows the expected schema.\n",
    "        Now, using these guidelines, generate a well-structured summary of the following research paper: {text}  \n",
    "\n",
    "    \"\"\"\n",
    "    summary_prompt = PromptTemplate.from_template(summary_template_string_2)\n",
    "    # Generate summary with LLM\n",
    "    summary_text = llm.invoke(summary_prompt.format(text=extracted_text))  # No chunking, single LLM call\n",
    "    \n",
    "    return {\"summary_text\": summary_text}"
   ]
  },
  {
   "cell_type": "markdown",
   "metadata": {},
   "source": [
    "### Podcast Transcript"
   ]
  },
  {
   "cell_type": "code",
   "execution_count": 370,
   "metadata": {},
   "outputs": [],
   "source": [
    "system_message_podcast = SystemMessagePromptTemplate.from_template(\n",
    "    \"\"\"You are an expert in creating/writing scripts for podcasts. \n",
    "    Consider the given scenario: Two people one girl and one boy who are in final year of their B.Tech, are discussing the given research paper to create an podcast of this research paper\n",
    "    \n",
    "    Boy's Name: Clay\n",
    "    Girl's Name: Katherine\n",
    "    \n",
    "    The Girl has complete knowledge about this paper, while the boy doesn't know anything about the paper.\n",
    "    \n",
    "    Write a script for a podcast, wherein firstly the girl introduces the paper, but the boy seems clueless.So the boy ask the girl many questions about the paper, to understand the paper and learn more about the keyowrds and topics involved.\n",
    "    \n",
    "    The boy's question should cover all the possible doubt that one can have regarding the paper, and the girl should answer that questions correctly.\n",
    "\n",
    "    General Guideline:\n",
    "    - Intro must include the name, application and the authors (and their institution)\n",
    "    - Consider the audience to be technically sound, so you can ue jargons\n",
    "    - The boys questions should cover all the aspects from methodology, results, literature review, etc\n",
    "    - Dont make it too obvious that they are discussing about the paper\n",
    "    - Make the order such that the question asked by clay in previous dialogue is answered by katherine in this dialogue.\n",
    "\n",
    "    Additional Guidelines:\n",
    "    - Consider that the girl always starts first\n",
    "    - Also give the order of dialogues, that are to be taken in a sequence\n",
    "    - Make sure that the number of dialogues in the order and in the lists add up.\n",
    "    - Both of them dont have to speak alternatively, they can heave continuous dialogues\n",
    "    - Each and every question asked by clay has to be answered by katherine\n",
    "    - Make sure that the both the persons are not inventing anything of their own, nor should they give any wrong information.\n",
    "    - Don't give a name to this podcast\n",
    "    - If a particular entity or its name can't be inferred, don't mention them as placeholders in the conversation\n",
    "    - Do not format the output in markdown, do not use triple backticks (` ``` `) or JSON code blocks.\n",
    "    Ensure that the response is a valid JSON object that follows the expected schema.\n",
    "    {format_instructions}\n",
    "    \"\"\"\n",
    ")\n",
    "\n",
    "# Human Message: Supplies extracted text from the research paper\n",
    "human_message_podcast = HumanMessagePromptTemplate.from_template(\"Here is the summary of research paper:\\n\\n{summary_text}. \\nMake sure the tone is {tone}\")\n",
    "\n",
    "parser_podcast = JsonOutputParser(pydantic_object=Conversation)\n",
    "# Combine into a structured chat prompt\n",
    "chat_prompt_podcast = ChatPromptTemplate(\n",
    "    messages=[system_message_podcast, human_message_podcast],\n",
    "    partial_variables={\"format_instructions\": parser_podcast.get_format_instructions()}\n",
    ")\n",
    "\n",
    "def generate_conversation(state: ResPaperExtractState):\n",
    "    summary_text = state[\"summary_text\"]\n",
    "    prompt = chat_prompt_podcast.invoke({\"summary_text\": summary_text, \"tone\": \"informative\"})\n",
    "    # llm_out = llm.invoke(prompt)\n",
    "    # parsed = parser_podcast.invoke(llm_out)\n",
    "    llm_out = llm.invoke(prompt)\n",
    "    cleaned_llm_out = clean_markdown_output(llm_out)\n",
    "    parsed = parser.invoke(cleaned_llm_out)\n",
    "\n",
    "    \n",
    "    return {\"convo\":parsed}\n",
    "\n"
   ]
  },
  {
   "cell_type": "markdown",
   "metadata": {},
   "source": [
    "### Prompt Experimentation"
   ]
  },
  {
   "cell_type": "code",
   "execution_count": null,
   "metadata": {},
   "outputs": [
    {
     "data": {
      "text/plain": [
       "'\\nHere’s the textual representation of your PowerPoint template, structured for easy LLM integration:  \\n\\n---\\n\\n### **Slide 1: Title Slide**  \\n- **Title:** Research Presentation Title  \\n- **Subtitle:** Subtitle / Tagline (Auto-generated by LLM)  \\n\\n### **Slide 2: Introduction (Hook)**  \\n- **Title:** Introduction: Why Does This Matter?  \\n- **Content:**  \\n  - Hook or problem statement  \\n  - Engaging question  \\n  - Real-world relevance  \\n\\n### **Slide 3: Research Summary**  \\n- **Title:** Research Summary  \\n- **Content:**  \\n  - Key findings  \\n  - Core methodology  \\n  - Main contributions  \\n\\n### **Slide 4: Data & Insights (Visual Representation)**  \\n- **Title:** Data & Insights (Visual)  \\n- **Left Content:** Placeholder for Graph / Infographic (Generated by LLM)  \\n- **Right Content:** Key explanation points  \\n\\n### **Slide 5: Making It Fun! (Meme / Pop Culture Connection)**  \\n- **Title:** Making It Fun!  \\n- **Content:**  \\n  - Meme / Analogy (LLM-generated)  \\n  - Relatable explanation  \\n\\n### **Slide 6: Interactive Section (Quiz or Poll)**  \\n- **Title:** Quick Quiz!  \\n- **Content:**  \\n  - Question related to research  \\n  - Generate upto 5 thought-provoking questions based on the research paper to encourage\\xa0discussion.\\n\\n### **Slide 7: Key Takeaways**  \\n- **Title:** Key Takeaways  \\n- **Content:**  \\n  - Summary of main insights  \\n  - Impact and future work  \\n\\n### **Slide 8: Thank You **\\n- **Title:** Thank You!  \\n- **Content:**  \\n  - QR Code to paper/resources (LLM-generated)  \\n  - Socials / Contact  \\n'"
      ]
     },
     "metadata": {},
     "output_type": "display_data"
    }
   ],
   "source": [
    "\"\"\"\n",
    "Here’s the textual representation of your PowerPoint template, structured for easy LLM integration:  \n",
    "\n",
    "---\n",
    "\n",
    "### **Slide 1: Title Slide**  \n",
    "- **Title:** Research Presentation Title  \n",
    "- **Subtitle:** Subtitle / Tagline (Auto-generated by LLM)  \n",
    "\n",
    "### **Slide 2: Introduction (Hook)**  \n",
    "- **Title:** Introduction: Why Does This Matter?  \n",
    "- **Content:**  \n",
    "  - Hook or problem statement  \n",
    "  - Engaging question  \n",
    "  - Real-world relevance  \n",
    "\n",
    "### **Slide 3: Research Summary**  \n",
    "- **Title:** Research Summary  \n",
    "- **Content:**  \n",
    "  - Key findings  \n",
    "  - Core methodology  \n",
    "  - Main contributions  \n",
    "\n",
    "### **Slide 4: Data & Insights (Visual Representation)**  \n",
    "- **Title:** Data & Insights (Visual)  \n",
    "- **Left Content:** Placeholder for Graph / Infographic (Generated by LLM)  \n",
    "- **Right Content:** Key explanation points  \n",
    "\n",
    "### **Slide 5: Making It Fun! (Meme / Pop Culture Connection)**  \n",
    "- **Title:** Making It Fun!  \n",
    "- **Content:**  \n",
    "  - Meme / Analogy (LLM-generated)  \n",
    "  - Relatable explanation  \n",
    "\n",
    "### **Slide 6: Interactive Section (Quiz or Poll)**  \n",
    "- **Title:** Quick Quiz!  \n",
    "- **Content:**  \n",
    "  - Question related to research  \n",
    "  - Generate upto 5 thought-provoking questions based on the research paper to encourage discussion.\n",
    "\n",
    "### **Slide 7: Key Takeaways**  \n",
    "- **Title:** Key Takeaways  \n",
    "- **Content:**  \n",
    "  - Summary of main insights  \n",
    "  - Impact and future work  \n",
    "\n",
    "### **Slide 8: Thank You **\n",
    "- **Title:** Thank You!  \n",
    "- **Content:**  \n",
    "  - QR Code to paper/resources (LLM-generated)  \n",
    "  - Socials / Contact  \n",
    "\"\"\""
   ]
  },
  {
   "cell_type": "code",
   "execution_count": null,
   "metadata": {},
   "outputs": [],
   "source": [
    "system_message_pptgen = SystemMessagePromptTemplate.from_template(\n",
    "    \"\"\" \n",
    "🎬 Slide 1: Title & Hook\n",
    "\n",
    "Big Bold Title with an eye-catching background.\n",
    "\n",
    "Engaging Hook: Meme, GIF, or a thought-provoking question.\n",
    "\n",
    "Subtitle: One-liner that teases the research topic (e.g., \"Can AI Predict Traffic Before You Even Leave Home?\").\n",
    "\n",
    "Your Name & Affiliation\n",
    "\n",
    "🧐 Slide 2: The Problem (Why Should We Care?)\n",
    "\n",
    "Minimal Text: Use an infographic or a relatable image.\n",
    "\n",
    "Example/Scenario: \"Imagine being stuck in traffic for hours... what if we could fix that?\" (for AI traffic research).\n",
    "\n",
    "Poll or Audience Interaction: Quick question like \"How often do you check Google Maps before heading out?\" (Slido, Kahoot, PowerPoint live polls).\n",
    "\n",
    "🔬 Slide 3: Research Overview (What’s Happening Here?)\n",
    "\n",
    "Visual Summary: Flowchart, concept map, or a simple animated diagram.\n",
    "\n",
    "One-Sentence Explanation of the research goal.\n",
    "\n",
    "A Fun Analogy: \"Think of this model like Netflix recommendations, but for predicting traffic jams.\"\n",
    "\n",
    "🏗️ Slide 4: Methodology (How We Did It)\n",
    "\n",
    "Minimal Bullet Points: (3 key steps max).\n",
    "\n",
    "Diagram or Icons: Instead of heavy text.\n",
    "\n",
    "Short Video/Animation (if applicable).\n",
    "\n",
    "QR Code: Link to GitHub repo or dataset.\n",
    "\n",
    "📊 Slide 5: Key Findings (What Did We Discover?)\n",
    "\n",
    "Graph/Infographic Instead of Text.\n",
    "\n",
    "Keep it Digestible: 2-3 major insights with emoji-based emphasis (e.g., 📉 Lower Traffic, 🚀 Faster Commute).\n",
    "A Surprising Fact: \"Did you know X% of delays could be avoided with predictive AI?\"\n",
    "\n",
    "🌍 Slide 6: Real-World Applications (Why It Matters)\n",
    "Real-World Example.\n",
    "Comparison Chart: \"What happens with vs. without this research?\".\n",
    "Quote from an Expert or Impact Statement.\n",
    "\n",
    "🔮 Slide 7: Future Scope (What’s Next?)\n",
    "Mind-Blowing Prediction: \"Could this tech be used in self-driving cars?\".\n",
    "Audience Involvement: \"What would YOU improve? Drop your ideas!\".\n",
    "\n",
    "🎤 Slide 8: Q&A\n",
    "Generate a set of thought-provoking questions based on the research paper to encourage discussion.\n",
    "\"\"\"\n",
    ")"
   ]
  },
  {
   "cell_type": "markdown",
   "metadata": {},
   "source": [
    "### Graph Builder"
   ]
  },
  {
   "cell_type": "code",
   "execution_count": 371,
   "metadata": {},
   "outputs": [],
   "source": [
    "\n",
    "builder = StateGraph(ResPaperExtractState)\n",
    "\n",
    "builder.add_node(\"pdf-2-text\", load_pdf)\n",
    "builder.add_node(\"ppt-extract\", get_data)\n",
    "builder.add_node(\"summary-text\", generate_summary)\n",
    "builder.add_node(\"conversation\", generate_conversation)\n",
    "\n",
    "builder.add_edge(START, \"pdf-2-text\")\n",
    "builder.add_edge(\"pdf-2-text\", \"ppt-extract\")\n",
    "builder.add_edge(\"pdf-2-text\", \"summary-text\")\n",
    "builder.add_edge(\"summary-text\", \"conversation\")\n",
    "builder.add_edge(\"ppt-extract\", END)\n",
    "builder.add_edge(\"conversation\", END)\n",
    "graph = builder.compile()\n"
   ]
  },
  {
   "cell_type": "code",
   "execution_count": 384,
   "metadata": {},
   "outputs": [
    {
     "data": {
      "image/png": "[encoded data removed]",
      "text/plain": [
       "<IPython.core.display.Image object>"
      ]
     },
     "metadata": {},
     "output_type": "display_data"
    }
   ],
   "source": [
    "display(Image(graph.get_graph(xray=1).draw_mermaid_png()))\n"
   ]
  },
  {
   "cell_type": "code",
   "execution_count": null,
   "metadata": {},
   "outputs": [],
   "source": [
    "path = r\"agents\\uploaded_pdfs\\Attention Is All You Need.pdf\"\n",
    "state_output = graph.invoke({\"pdf_path\":path})"
   ]
  },
  {
   "cell_type": "code",
   "execution_count": 373,
   "metadata": {},
   "outputs": [
    {
     "data": {
      "text/plain": [
       "'Provided proper attribution is provided, Google hereby grants permission to\\nreproduce the tables and figures in this paper solely for use in journalistic or\\nscholarly works.\\nAttention Is All You Need\\nAshish Vaswani∗\\nGoogle Brain\\navaswani@google.com\\nNoam Shazeer∗\\nGoogle Brain\\nnoam@google.com\\nNiki Parmar∗\\nGoogle Research\\nnikip@google.com\\nJakob Uszkoreit∗\\nGoogle Research\\nusz@google.com\\nLlion Jones∗\\nGoogle Research\\nllion@google.com\\nAidan N. Gomez∗†\\nUniversity of Toronto\\naidan@cs.toronto.edu\\nŁukasz Kaiser∗\\nGoogle Brain\\nlukaszkaiser@google.com\\nIllia Polosukhin∗‡\\nillia.polosukhin@gmail.com\\nAbstract\\nThe dominant sequence transduction models are based on complex recurrent or\\nconvolutional neural networks that include an encoder and a decoder. The best\\nperforming models also connect the encoder and decoder through an attention\\nmechanism. We propose a new simple network architecture, the Transformer,\\nbased solely on attention mechanisms, dispensing with recurrence and convolutions\\nentirely. Experiments on two machine translation tasks show these models to\\nbe superior in quality while being more parallelizable and requiring significantly\\nless time to train. Our model achieves 28.4 BLEU on the WMT 2014 English-\\nto-German translation task, improving over the existing best results, including\\nensembles, by over 2 BLEU. On the WMT 2014 English-to-French translation task,\\nour model establishes a new single-model state-of-the-art BLEU score of 41.8 after\\ntraining for 3.5 days on eight GPUs, a small fraction of the training costs of the\\nbest models from the literature. We show that the Transformer generalizes well to\\nother tasks by applying it successfully to English constituency parsing both with\\nlarge and limited training data.\\n∗Equal contribution. Listing order is random. Jakob proposed replacing RNNs with self-attention and started\\nthe effort to evaluate this idea. Ashish, with Illia, designed and implemented the first Transformer models and\\nhas been crucially involved in every aspect of this work. Noam proposed scaled dot-product attention, multi-head\\nattention and the parameter-free position representation and became the other person involved in nearly every\\ndetail. Niki designed, implemented, tuned and evaluated countless model variants in our original codebase and\\ntensor2tensor. Llion also experimented with novel model variants, was responsible for our initial codebase, and\\nefficient inference and visualizations. Lukasz and Aidan spent countless long days designing various parts of and\\nimplementing tensor2tensor, replacing our earlier codebase, greatly improving results and massively accelerating\\nour research.\\n†Work performed while at Google Brain.\\n‡Work performed while at Google Research.\\n31st Conference on Neural Information Processing Systems (NIPS 2017), Long Beach, CA, USA.\\narXiv:1706.03762v7  [cs.CL]  2 Aug 2023\\n\\n1\\nIntroduction\\nRecurrent neural networks, long short-term memory [13] and gated recurrent [7] neural networks\\nin particular, have been firmly established as state of the art approaches in sequence modeling and\\ntransduction problems such as language modeling and machine translation [35, 2, 5]. Numerous\\nefforts have since continued to push the boundaries of recurrent language models and encoder-decoder\\narchitectures [38, 24, 15].\\nRecurrent models typically factor computation along the symbol positions of the input and output\\nsequences. Aligning the positions to steps in computation time, they generate a sequence of hidden\\nstates ht, as a function of the previous hidden state ht−1 and the input for position t. This inherently\\nsequential nature precludes parallelization within training examples, which becomes critical at longer\\nsequence lengths, as memory constraints limit batching across examples. Recent work has achieved\\nsignificant improvements in computational efficiency through factorization tricks [21] and conditional\\ncomputation [32], while also improving model performance in case of the latter. The fundamental\\nconstraint of sequential computation, however, remains.\\nAttention mechanisms have become an integral part of compelling sequence modeling and transduc-\\ntion models in various tasks, allowing modeling of dependencies without regard to their distance in\\nthe input or output sequences [2, 19]. In all but a few cases [27], however, such attention mechanisms\\nare used in conjunction with a recurrent network.\\nIn this work we propose the Transformer, a model architecture eschewing recurrence and instead\\nrelying entirely on an attention mechanism to draw global dependencies between input and output.\\nThe Transformer allows for significantly more parallelization and can reach a new state of the art in\\ntranslation quality after being trained for as little as twelve hours on eight P100 GPUs.\\n2\\nBackground\\nThe goal of reducing sequential computation also forms the foundation of the Extended Neural GPU\\n[16], ByteNet [18] and ConvS2S [9], all of which use convolutional neural networks as basic building\\nblock, computing hidden representations in parallel for all input and output positions. In these models,\\nthe number of operations required to relate signals from two arbitrary input or output positions grows\\nin the distance between positions, linearly for ConvS2S and logarithmically for ByteNet. This makes\\nit more difficult to learn dependencies between distant positions [12]. In the Transformer this is\\nreduced to a constant number of operations, albeit at the cost of reduced effective resolution due\\nto averaging attention-weighted positions, an effect we counteract with Multi-Head Attention as\\ndescribed in section 3.2.\\nSelf-attention, sometimes called intra-attention is an attention mechanism relating different positions\\nof a single sequence in order to compute a representation of the sequence. Self-attention has been\\nused successfully in a variety of tasks including reading comprehension, abstractive summarization,\\ntextual entailment and learning task-independent sentence representations [4, 27, 28, 22].\\nEnd-to-end memory networks are based on a recurrent attention mechanism instead of sequence-\\naligned recurrence and have been shown to perform well on simple-language question answering and\\nlanguage modeling tasks [34].\\nTo the best of our knowledge, however, the Transformer is the first transduction model relying\\nentirely on self-attention to compute representations of its input and output without using sequence-\\naligned RNNs or convolution. In the following sections, we will describe the Transformer, motivate\\nself-attention and discuss its advantages over models such as [17, 18] and [9].\\n3\\nModel Architecture\\nMost competitive neural sequence transduction models have an encoder-decoder structure [5, 2, 35].\\nHere, the encoder maps an input sequence of symbol representations (x1, ..., xn) to a sequence\\nof continuous representations z = (z1, ..., zn). Given z, the decoder then generates an output\\nsequence (y1, ..., ym) of symbols one element at a time. At each step the model is auto-regressive\\n[10], consuming the previously generated symbols as additional input when generating the next.\\n2\\n\\nFigure 1: The Transformer - model architecture.\\nThe Transformer follows this overall architecture using stacked self-attention and point-wise, fully\\nconnected layers for both the encoder and decoder, shown in the left and right halves of Figure 1,\\nrespectively.\\n3.1\\nEncoder and Decoder Stacks\\nEncoder:\\nThe encoder is composed of a stack of N = 6 identical layers. Each layer has two\\nsub-layers. The first is a multi-head self-attention mechanism, and the second is a simple, position-\\nwise fully connected feed-forward network. We employ a residual connection [11] around each of\\nthe two sub-layers, followed by layer normalization [1]. That is, the output of each sub-layer is\\nLayerNorm(x + Sublayer(x)), where Sublayer(x) is the function implemented by the sub-layer\\nitself. To facilitate these residual connections, all sub-layers in the model, as well as the embedding\\nlayers, produce outputs of dimension dmodel = 512.\\nDecoder:\\nThe decoder is also composed of a stack of N = 6 identical layers. In addition to the two\\nsub-layers in each encoder layer, the decoder inserts a third sub-layer, which performs multi-head\\nattention over the output of the encoder stack. Similar to the encoder, we employ residual connections\\naround each of the sub-layers, followed by layer normalization. We also modify the self-attention\\nsub-layer in the decoder stack to prevent positions from attending to subsequent positions. This\\nmasking, combined with fact that the output embeddings are offset by one position, ensures that the\\npredictions for position i can depend only on the known outputs at positions less than i.\\n3.2\\nAttention\\nAn attention function can be described as mapping a query and a set of key-value pairs to an output,\\nwhere the query, keys, values, and output are all vectors. The output is computed as a weighted sum\\n3\\n\\nScaled Dot-Product Attention\\nMulti-Head Attention\\nFigure 2: (left) Scaled Dot-Product Attention. (right) Multi-Head Attention consists of several\\nattention layers running in parallel.\\nof the values, where the weight assigned to each value is computed by a compatibility function of the\\nquery with the corresponding key.\\n3.2.1\\nScaled Dot-Product Attention\\nWe call our particular attention \"Scaled Dot-Product Attention\" (Figure 2). The input consists of\\nqueries and keys of dimension dk, and values of dimension dv. We compute the dot products of the\\nquery with all keys, divide each by √dk, and apply a softmax function to obtain the weights on the\\nvalues.\\nIn practice, we compute the attention function on a set of queries simultaneously, packed together\\ninto a matrix Q. The keys and values are also packed together into matrices K and V . We compute\\nthe matrix of outputs as:\\nAttention(Q, K, V ) = softmax(QKT\\n√dk\\n)V\\n(1)\\nThe two most commonly used attention functions are additive attention [2], and dot-product (multi-\\nplicative) attention. Dot-product attention is identical to our algorithm, except for the scaling factor\\nof\\n1\\n√dk . Additive attention computes the compatibility function using a feed-forward network with\\na single hidden layer. While the two are similar in theoretical complexity, dot-product attention is\\nmuch faster and more space-efficient in practice, since it can be implemented using highly optimized\\nmatrix multiplication code.\\nWhile for small values of dk the two mechanisms perform similarly, additive attention outperforms\\ndot product attention without scaling for larger values of dk [3]. We suspect that for large values of\\ndk, the dot products grow large in magnitude, pushing the softmax function into regions where it has\\nextremely small gradients 4. To counteract this effect, we scale the dot products by\\n1\\n√dk .\\n3.2.2\\nMulti-Head Attention\\nInstead of performing a single attention function with dmodel-dimensional keys, values and queries,\\nwe found it beneficial to linearly project the queries, keys and values h times with different, learned\\nlinear projections to dk, dk and dv dimensions, respectively. On each of these projected versions of\\nqueries, keys and values we then perform the attention function in parallel, yielding dv-dimensional\\n4To illustrate why the dot products get large, assume that the components of q and k are independent random\\nvariables with mean 0 and variance 1. Then their dot product, q · k = Pdk\\ni=1 qiki, has mean 0 and variance dk.\\n4\\n\\noutput values. These are concatenated and once again projected, resulting in the final values, as\\ndepicted in Figure 2.\\nMulti-head attention allows the model to jointly attend to information from different representation\\nsubspaces at different positions. With a single attention head, averaging inhibits this.\\nMultiHead(Q, K, V ) = Concat(head1, ..., headh)W O\\nwhere headi = Attention(QW Q\\ni , KW K\\ni , V W V\\ni )\\nWhere the projections are parameter matrices W Q\\ni\\n∈Rdmodel×dk, W K\\ni\\n∈Rdmodel×dk, W V\\ni\\n∈Rdmodel×dv\\nand W O ∈Rhdv×dmodel.\\nIn this work we employ h = 8 parallel attention layers, or heads. For each of these we use\\ndk = dv = dmodel/h = 64. Due to the reduced dimension of each head, the total computational cost\\nis similar to that of single-head attention with full dimensionality.\\n3.2.3\\nApplications of Attention in our Model\\nThe Transformer uses multi-head attention in three different ways:\\n• In \"encoder-decoder attention\" layers, the queries come from the previous decoder layer,\\nand the memory keys and values come from the output of the encoder. This allows every\\nposition in the decoder to attend over all positions in the input sequence. This mimics the\\ntypical encoder-decoder attention mechanisms in sequence-to-sequence models such as\\n[38, 2, 9].\\n• The encoder contains self-attention layers. In a self-attention layer all of the keys, values\\nand queries come from the same place, in this case, the output of the previous layer in the\\nencoder. Each position in the encoder can attend to all positions in the previous layer of the\\nencoder.\\n• Similarly, self-attention layers in the decoder allow each position in the decoder to attend to\\nall positions in the decoder up to and including that position. We need to prevent leftward\\ninformation flow in the decoder to preserve the auto-regressive property. We implement this\\ninside of scaled dot-product attention by masking out (setting to −∞) all values in the input\\nof the softmax which correspond to illegal connections. See Figure 2.\\n3.3\\nPosition-wise Feed-Forward Networks\\nIn addition to attention sub-layers, each of the layers in our encoder and decoder contains a fully\\nconnected feed-forward network, which is applied to each position separately and identically. This\\nconsists of two linear transformations with a ReLU activation in between.\\nFFN(x) = max(0, xW1 + b1)W2 + b2\\n(2)\\nWhile the linear transformations are the same across different positions, they use different parameters\\nfrom layer to layer. Another way of describing this is as two convolutions with kernel size 1.\\nThe dimensionality of input and output is dmodel = 512, and the inner-layer has dimensionality\\ndff = 2048.\\n3.4\\nEmbeddings and Softmax\\nSimilarly to other sequence transduction models, we use learned embeddings to convert the input\\ntokens and output tokens to vectors of dimension dmodel. We also use the usual learned linear transfor-\\nmation and softmax function to convert the decoder output to predicted next-token probabilities. In\\nour model, we share the same weight matrix between the two embedding layers and the pre-softmax\\nlinear transformation, similar to [30]. In the embedding layers, we multiply those weights by √dmodel.\\n5\\n\\nTable 1: Maximum path lengths, per-layer complexity and minimum number of sequential operations\\nfor different layer types. n is the sequence length, d is the representation dimension, k is the kernel\\nsize of convolutions and r the size of the neighborhood in restricted self-attention.\\nLayer Type\\nComplexity per Layer\\nSequential\\nMaximum Path Length\\nOperations\\nSelf-Attention\\nO(n2 · d)\\nO(1)\\nO(1)\\nRecurrent\\nO(n · d2)\\nO(n)\\nO(n)\\nConvolutional\\nO(k · n · d2)\\nO(1)\\nO(logk(n))\\nSelf-Attention (restricted)\\nO(r · n · d)\\nO(1)\\nO(n/r)\\n3.5\\nPositional Encoding\\nSince our model contains no recurrence and no convolution, in order for the model to make use of the\\norder of the sequence, we must inject some information about the relative or absolute position of the\\ntokens in the sequence. To this end, we add \"positional encodings\" to the input embeddings at the\\nbottoms of the encoder and decoder stacks. The positional encodings have the same dimension dmodel\\nas the embeddings, so that the two can be summed. There are many choices of positional encodings,\\nlearned and fixed [9].\\nIn this work, we use sine and cosine functions of different frequencies:\\nPE(pos,2i) = sin(pos/100002i/dmodel)\\nPE(pos,2i+1) = cos(pos/100002i/dmodel)\\nwhere pos is the position and i is the dimension. That is, each dimension of the positional encoding\\ncorresponds to a sinusoid. The wavelengths form a geometric progression from 2π to 10000 · 2π. We\\nchose this function because we hypothesized it would allow the model to easily learn to attend by\\nrelative positions, since for any fixed offset k, PEpos+k can be represented as a linear function of\\nPEpos.\\nWe also experimented with using learned positional embeddings [9] instead, and found that the two\\nversions produced nearly identical results (see Table 3 row (E)). We chose the sinusoidal version\\nbecause it may allow the model to extrapolate to sequence lengths longer than the ones encountered\\nduring training.\\n4\\nWhy Self-Attention\\nIn this section we compare various aspects of self-attention layers to the recurrent and convolu-\\ntional layers commonly used for mapping one variable-length sequence of symbol representations\\n(x1, ..., xn) to another sequence of equal length (z1, ..., zn), with xi, zi ∈Rd, such as a hidden\\nlayer in a typical sequence transduction encoder or decoder. Motivating our use of self-attention we\\nconsider three desiderata.\\nOne is the total computational complexity per layer. Another is the amount of computation that can\\nbe parallelized, as measured by the minimum number of sequential operations required.\\nThe third is the path length between long-range dependencies in the network. Learning long-range\\ndependencies is a key challenge in many sequence transduction tasks. One key factor affecting the\\nability to learn such dependencies is the length of the paths forward and backward signals have to\\ntraverse in the network. The shorter these paths between any combination of positions in the input\\nand output sequences, the easier it is to learn long-range dependencies [12]. Hence we also compare\\nthe maximum path length between any two input and output positions in networks composed of the\\ndifferent layer types.\\nAs noted in Table 1, a self-attention layer connects all positions with a constant number of sequentially\\nexecuted operations, whereas a recurrent layer requires O(n) sequential operations. In terms of\\ncomputational complexity, self-attention layers are faster than recurrent layers when the sequence\\n6\\n\\nlength n is smaller than the representation dimensionality d, which is most often the case with\\nsentence representations used by state-of-the-art models in machine translations, such as word-piece\\n[38] and byte-pair [31] representations. To improve computational performance for tasks involving\\nvery long sequences, self-attention could be restricted to considering only a neighborhood of size r in\\nthe input sequence centered around the respective output position. This would increase the maximum\\npath length to O(n/r). We plan to investigate this approach further in future work.\\nA single convolutional layer with kernel width k < n does not connect all pairs of input and output\\npositions. Doing so requires a stack of O(n/k) convolutional layers in the case of contiguous kernels,\\nor O(logk(n)) in the case of dilated convolutions [18], increasing the length of the longest paths\\nbetween any two positions in the network. Convolutional layers are generally more expensive than\\nrecurrent layers, by a factor of k. Separable convolutions [6], however, decrease the complexity\\nconsiderably, to O(k · n · d + n · d2). Even with k = n, however, the complexity of a separable\\nconvolution is equal to the combination of a self-attention layer and a point-wise feed-forward layer,\\nthe approach we take in our model.\\nAs side benefit, self-attention could yield more interpretable models. We inspect attention distributions\\nfrom our models and present and discuss examples in the appendix. Not only do individual attention\\nheads clearly learn to perform different tasks, many appear to exhibit behavior related to the syntactic\\nand semantic structure of the sentences.\\n5\\nTraining\\nThis section describes the training regime for our models.\\n5.1\\nTraining Data and Batching\\nWe trained on the standard WMT 2014 English-German dataset consisting of about 4.5 million\\nsentence pairs. Sentences were encoded using byte-pair encoding [3], which has a shared source-\\ntarget vocabulary of about 37000 tokens. For English-French, we used the significantly larger WMT\\n2014 English-French dataset consisting of 36M sentences and split tokens into a 32000 word-piece\\nvocabulary [38]. Sentence pairs were batched together by approximate sequence length. Each training\\nbatch contained a set of sentence pairs containing approximately 25000 source tokens and 25000\\ntarget tokens.\\n5.2\\nHardware and Schedule\\nWe trained our models on one machine with 8 NVIDIA P100 GPUs. For our base models using\\nthe hyperparameters described throughout the paper, each training step took about 0.4 seconds. We\\ntrained the base models for a total of 100,000 steps or 12 hours. For our big models,(described on the\\nbottom line of table 3), step time was 1.0 seconds. The big models were trained for 300,000 steps\\n(3.5 days).\\n5.3\\nOptimizer\\nWe used the Adam optimizer [20] with β1 = 0.9, β2 = 0.98 and ϵ = 10−9. We varied the learning\\nrate over the course of training, according to the formula:\\nlrate = d−0.5\\nmodel · min(step_num−0.5, step_num · warmup_steps−1.5)\\n(3)\\nThis corresponds to increasing the learning rate linearly for the first warmup_steps training steps,\\nand decreasing it thereafter proportionally to the inverse square root of the step number. We used\\nwarmup_steps = 4000.\\n5.4\\nRegularization\\nWe employ three types of regularization during training:\\n7\\n\\nTable 2: The Transformer achieves better BLEU scores than previous state-of-the-art models on the\\nEnglish-to-German and English-to-French newstest2014 tests at a fraction of the training cost.\\nModel\\nBLEU\\nTraining Cost (FLOPs)\\nEN-DE\\nEN-FR\\nEN-DE\\nEN-FR\\nByteNet [18]\\n23.75\\nDeep-Att + PosUnk [39]\\n39.2\\n1.0 · 1020\\nGNMT + RL [38]\\n24.6\\n39.92\\n2.3 · 1019\\n1.4 · 1020\\nConvS2S [9]\\n25.16\\n40.46\\n9.6 · 1018\\n1.5 · 1020\\nMoE [32]\\n26.03\\n40.56\\n2.0 · 1019\\n1.2 · 1020\\nDeep-Att + PosUnk Ensemble [39]\\n40.4\\n8.0 · 1020\\nGNMT + RL Ensemble [38]\\n26.30\\n41.16\\n1.8 · 1020\\n1.1 · 1021\\nConvS2S Ensemble [9]\\n26.36\\n41.29\\n7.7 · 1019\\n1.2 · 1021\\nTransformer (base model)\\n27.3\\n38.1\\n3.3 · 1018\\nTransformer (big)\\n28.4\\n41.8\\n2.3 · 1019\\nResidual Dropout\\nWe apply dropout [33] to the output of each sub-layer, before it is added to the\\nsub-layer input and normalized. In addition, we apply dropout to the sums of the embeddings and the\\npositional encodings in both the encoder and decoder stacks. For the base model, we use a rate of\\nPdrop = 0.1.\\nLabel Smoothing\\nDuring training, we employed label smoothing of value ϵls = 0.1 [36]. This\\nhurts perplexity, as the model learns to be more unsure, but improves accuracy and BLEU score.\\n6\\nResults\\n6.1\\nMachine Translation\\nOn the WMT 2014 English-to-German translation task, the big transformer model (Transformer (big)\\nin Table 2) outperforms the best previously reported models (including ensembles) by more than 2.0\\nBLEU, establishing a new state-of-the-art BLEU score of 28.4. The configuration of this model is\\nlisted in the bottom line of Table 3. Training took 3.5 days on 8 P100 GPUs. Even our base model\\nsurpasses all previously published models and ensembles, at a fraction of the training cost of any of\\nthe competitive models.\\nOn the WMT 2014 English-to-French translation task, our big model achieves a BLEU score of 41.0,\\noutperforming all of the previously published single models, at less than 1/4 the training cost of the\\nprevious state-of-the-art model. The Transformer (big) model trained for English-to-French used\\ndropout rate Pdrop = 0.1, instead of 0.3.\\nFor the base models, we used a single model obtained by averaging the last 5 checkpoints, which\\nwere written at 10-minute intervals. For the big models, we averaged the last 20 checkpoints. We\\nused beam search with a beam size of 4 and length penalty α = 0.6 [38]. These hyperparameters\\nwere chosen after experimentation on the development set. We set the maximum output length during\\ninference to input length + 50, but terminate early when possible [38].\\nTable 2 summarizes our results and compares our translation quality and training costs to other model\\narchitectures from the literature. We estimate the number of floating point operations used to train a\\nmodel by multiplying the training time, the number of GPUs used, and an estimate of the sustained\\nsingle-precision floating-point capacity of each GPU 5.\\n6.2\\nModel Variations\\nTo evaluate the importance of different components of the Transformer, we varied our base model\\nin different ways, measuring the change in performance on English-to-German translation on the\\n5We used values of 2.8, 3.7, 6.0 and 9.5 TFLOPS for K80, K40, M40 and P100, respectively.\\n8\\n\\nTable 3: Variations on the Transformer architecture. Unlisted values are identical to those of the base\\nmodel. All metrics are on the English-to-German translation development set, newstest2013. Listed\\nperplexities are per-wordpiece, according to our byte-pair encoding, and should not be compared to\\nper-word perplexities.\\nN\\ndmodel\\ndff\\nh\\ndk\\ndv\\nPdrop\\nϵls\\ntrain\\nPPL\\nBLEU\\nparams\\nsteps\\n(dev)\\n(dev)\\n×106\\nbase\\n6\\n512\\n2048\\n8\\n64\\n64\\n0.1\\n0.1\\n100K\\n4.92\\n25.8\\n65\\n(A)\\n1\\n512\\n512\\n5.29\\n24.9\\n4\\n128\\n128\\n5.00\\n25.5\\n16\\n32\\n32\\n4.91\\n25.8\\n32\\n16\\n16\\n5.01\\n25.4\\n(B)\\n16\\n5.16\\n25.1\\n58\\n32\\n5.01\\n25.4\\n60\\n(C)\\n2\\n6.11\\n23.7\\n36\\n4\\n5.19\\n25.3\\n50\\n8\\n4.88\\n25.5\\n80\\n256\\n32\\n32\\n5.75\\n24.5\\n28\\n1024\\n128\\n128\\n4.66\\n26.0\\n168\\n1024\\n5.12\\n25.4\\n53\\n4096\\n4.75\\n26.2\\n90\\n(D)\\n0.0\\n5.77\\n24.6\\n0.2\\n4.95\\n25.5\\n0.0\\n4.67\\n25.3\\n0.2\\n5.47\\n25.7\\n(E)\\npositional embedding instead of sinusoids\\n4.92\\n25.7\\nbig\\n6\\n1024\\n4096\\n16\\n0.3\\n300K\\n4.33\\n26.4\\n213\\ndevelopment set, newstest2013. We used beam search as described in the previous section, but no\\ncheckpoint averaging. We present these results in Table 3.\\nIn Table 3 rows (A), we vary the number of attention heads and the attention key and value dimensions,\\nkeeping the amount of computation constant, as described in Section 3.2.2. While single-head\\nattention is 0.9 BLEU worse than the best setting, quality also drops off with too many heads.\\nIn Table 3 rows (B), we observe that reducing the attention key size dk hurts model quality. This\\nsuggests that determining compatibility is not easy and that a more sophisticated compatibility\\nfunction than dot product may be beneficial. We further observe in rows (C) and (D) that, as expected,\\nbigger models are better, and dropout is very helpful in avoiding over-fitting. In row (E) we replace our\\nsinusoidal positional encoding with learned positional embeddings [9], and observe nearly identical\\nresults to the base model.\\n6.3\\nEnglish Constituency Parsing\\nTo evaluate if the Transformer can generalize to other tasks we performed experiments on English\\nconstituency parsing. This task presents specific challenges: the output is subject to strong structural\\nconstraints and is significantly longer than the input. Furthermore, RNN sequence-to-sequence\\nmodels have not been able to attain state-of-the-art results in small-data regimes [37].\\nWe trained a 4-layer transformer with dmodel = 1024 on the Wall Street Journal (WSJ) portion of the\\nPenn Treebank [25], about 40K training sentences. We also trained it in a semi-supervised setting,\\nusing the larger high-confidence and BerkleyParser corpora from with approximately 17M sentences\\n[37]. We used a vocabulary of 16K tokens for the WSJ only setting and a vocabulary of 32K tokens\\nfor the semi-supervised setting.\\nWe performed only a small number of experiments to select the dropout, both attention and residual\\n(section 5.4), learning rates and beam size on the Section 22 development set, all other parameters\\nremained unchanged from the English-to-German base translation model. During inference, we\\n9\\n\\nTable 4: The Transformer generalizes well to English constituency parsing (Results are on Section 23\\nof WSJ)\\nParser\\nTraining\\nWSJ 23 F1\\nVinyals & Kaiser el al. (2014) [37]\\nWSJ only, discriminative\\n88.3\\nPetrov et al. (2006) [29]\\nWSJ only, discriminative\\n90.4\\nZhu et al. (2013) [40]\\nWSJ only, discriminative\\n90.4\\nDyer et al. (2016) [8]\\nWSJ only, discriminative\\n91.7\\nTransformer (4 layers)\\nWSJ only, discriminative\\n91.3\\nZhu et al. (2013) [40]\\nsemi-supervised\\n91.3\\nHuang & Harper (2009) [14]\\nsemi-supervised\\n91.3\\nMcClosky et al. (2006) [26]\\nsemi-supervised\\n92.1\\nVinyals & Kaiser el al. (2014) [37]\\nsemi-supervised\\n92.1\\nTransformer (4 layers)\\nsemi-supervised\\n92.7\\nLuong et al. (2015) [23]\\nmulti-task\\n93.0\\nDyer et al. (2016) [8]\\ngenerative\\n93.3\\nincreased the maximum output length to input length + 300. We used a beam size of 21 and α = 0.3\\nfor both WSJ only and the semi-supervised setting.\\nOur results in Table 4 show that despite the lack of task-specific tuning our model performs sur-\\nprisingly well, yielding better results than all previously reported models with the exception of the\\nRecurrent Neural Network Grammar [8].\\nIn contrast to RNN sequence-to-sequence models [37], the Transformer outperforms the Berkeley-\\nParser [29] even when training only on the WSJ training set of 40K sentences.\\n7\\nConclusion\\nIn this work, we presented the Transformer, the first sequence transduction model based entirely on\\nattention, replacing the recurrent layers most commonly used in encoder-decoder architectures with\\nmulti-headed self-attention.\\nFor translation tasks, the Transformer can be trained significantly faster than architectures based\\non recurrent or convolutional layers. On both WMT 2014 English-to-German and WMT 2014\\nEnglish-to-French translation tasks, we achieve a new state of the art. In the former task our best\\nmodel outperforms even all previously reported ensembles.\\nWe are excited about the future of attention-based models and plan to apply them to other tasks. We\\nplan to extend the Transformer to problems involving input and output modalities other than text and\\nto investigate local, restricted attention mechanisms to efficiently handle large inputs and outputs\\nsuch as images, audio and video. Making generation less sequential is another research goals of ours.\\nThe code we used to train and evaluate our models is available at https://github.com/\\ntensorflow/tensor2tensor.\\nAcknowledgements\\nWe are grateful to Nal Kalchbrenner and Stephan Gouws for their fruitful\\ncomments, corrections and inspiration.\\nReferences\\n[1] Jimmy Lei Ba, Jamie Ryan Kiros, and Geoffrey E Hinton. Layer normalization. arXiv preprint\\narXiv:1607.06450, 2016.\\n[2] Dzmitry Bahdanau, Kyunghyun Cho, and Yoshua Bengio. Neural machine translation by jointly\\nlearning to align and translate. CoRR, abs/1409.0473, 2014.\\n[3] Denny Britz, Anna Goldie, Minh-Thang Luong, and Quoc V. Le. Massive exploration of neural\\nmachine translation architectures. CoRR, abs/1703.03906, 2017.\\n[4] Jianpeng Cheng, Li Dong, and Mirella Lapata. Long short-term memory-networks for machine\\nreading. arXiv preprint arXiv:1601.06733, 2016.\\n10\\n\\n[5] Kyunghyun Cho, Bart van Merrienboer, Caglar Gulcehre, Fethi Bougares, Holger Schwenk,\\nand Yoshua Bengio. Learning phrase representations using rnn encoder-decoder for statistical\\nmachine translation. CoRR, abs/1406.1078, 2014.\\n[6] Francois Chollet. Xception: Deep learning with depthwise separable convolutions. arXiv\\npreprint arXiv:1610.02357, 2016.\\n[7] Junyoung Chung, Çaglar Gülçehre, Kyunghyun Cho, and Yoshua Bengio. Empirical evaluation\\nof gated recurrent neural networks on sequence modeling. CoRR, abs/1412.3555, 2014.\\n[8] Chris Dyer, Adhiguna Kuncoro, Miguel Ballesteros, and Noah A. Smith. Recurrent neural\\nnetwork grammars. In Proc. of NAACL, 2016.\\n[9] Jonas Gehring, Michael Auli, David Grangier, Denis Yarats, and Yann N. Dauphin. Convolu-\\ntional sequence to sequence learning. arXiv preprint arXiv:1705.03122v2, 2017.\\n[10] Alex Graves.\\nGenerating sequences with recurrent neural networks.\\narXiv preprint\\narXiv:1308.0850, 2013.\\n[11] Kaiming He, Xiangyu Zhang, Shaoqing Ren, and Jian Sun. Deep residual learning for im-\\nage recognition. In Proceedings of the IEEE Conference on Computer Vision and Pattern\\nRecognition, pages 770–778, 2016.\\n[12] Sepp Hochreiter, Yoshua Bengio, Paolo Frasconi, and Jürgen Schmidhuber. Gradient flow in\\nrecurrent nets: the difficulty of learning long-term dependencies, 2001.\\n[13] Sepp Hochreiter and Jürgen Schmidhuber. Long short-term memory. Neural computation,\\n9(8):1735–1780, 1997.\\n[14] Zhongqiang Huang and Mary Harper. Self-training PCFG grammars with latent annotations\\nacross languages. In Proceedings of the 2009 Conference on Empirical Methods in Natural\\nLanguage Processing, pages 832–841. ACL, August 2009.\\n[15] Rafal Jozefowicz, Oriol Vinyals, Mike Schuster, Noam Shazeer, and Yonghui Wu. Exploring\\nthe limits of language modeling. arXiv preprint arXiv:1602.02410, 2016.\\n[16] Łukasz Kaiser and Samy Bengio. Can active memory replace attention? In Advances in Neural\\nInformation Processing Systems, (NIPS), 2016.\\n[17] Łukasz Kaiser and Ilya Sutskever. Neural GPUs learn algorithms. In International Conference\\non Learning Representations (ICLR), 2016.\\n[18] Nal Kalchbrenner, Lasse Espeholt, Karen Simonyan, Aaron van den Oord, Alex Graves, and Ko-\\nray Kavukcuoglu. Neural machine translation in linear time. arXiv preprint arXiv:1610.10099v2,\\n2017.\\n[19] Yoon Kim, Carl Denton, Luong Hoang, and Alexander M. Rush. Structured attention networks.\\nIn International Conference on Learning Representations, 2017.\\n[20] Diederik Kingma and Jimmy Ba. Adam: A method for stochastic optimization. In ICLR, 2015.\\n[21] Oleksii Kuchaiev and Boris Ginsburg. Factorization tricks for LSTM networks. arXiv preprint\\narXiv:1703.10722, 2017.\\n[22] Zhouhan Lin, Minwei Feng, Cicero Nogueira dos Santos, Mo Yu, Bing Xiang, Bowen\\nZhou, and Yoshua Bengio. A structured self-attentive sentence embedding. arXiv preprint\\narXiv:1703.03130, 2017.\\n[23] Minh-Thang Luong, Quoc V. Le, Ilya Sutskever, Oriol Vinyals, and Lukasz Kaiser. Multi-task\\nsequence to sequence learning. arXiv preprint arXiv:1511.06114, 2015.\\n[24] Minh-Thang Luong, Hieu Pham, and Christopher D Manning. Effective approaches to attention-\\nbased neural machine translation. arXiv preprint arXiv:1508.04025, 2015.\\n11\\n\\n[25] Mitchell P Marcus, Mary Ann Marcinkiewicz, and Beatrice Santorini. Building a large annotated\\ncorpus of english: The penn treebank. Computational linguistics, 19(2):313–330, 1993.\\n[26] David McClosky, Eugene Charniak, and Mark Johnson. Effective self-training for parsing. In\\nProceedings of the Human Language Technology Conference of the NAACL, Main Conference,\\npages 152–159. ACL, June 2006.\\n[27] Ankur Parikh, Oscar Täckström, Dipanjan Das, and Jakob Uszkoreit. A decomposable attention\\nmodel. In Empirical Methods in Natural Language Processing, 2016.\\n[28] Romain Paulus, Caiming Xiong, and Richard Socher. A deep reinforced model for abstractive\\nsummarization. arXiv preprint arXiv:1705.04304, 2017.\\n[29] Slav Petrov, Leon Barrett, Romain Thibaux, and Dan Klein. Learning accurate, compact,\\nand interpretable tree annotation. In Proceedings of the 21st International Conference on\\nComputational Linguistics and 44th Annual Meeting of the ACL, pages 433–440. ACL, July\\n2006.\\n[30] Ofir Press and Lior Wolf. Using the output embedding to improve language models. arXiv\\npreprint arXiv:1608.05859, 2016.\\n[31] Rico Sennrich, Barry Haddow, and Alexandra Birch. Neural machine translation of rare words\\nwith subword units. arXiv preprint arXiv:1508.07909, 2015.\\n[32] Noam Shazeer, Azalia Mirhoseini, Krzysztof Maziarz, Andy Davis, Quoc Le, Geoffrey Hinton,\\nand Jeff Dean. Outrageously large neural networks: The sparsely-gated mixture-of-experts\\nlayer. arXiv preprint arXiv:1701.06538, 2017.\\n[33] Nitish Srivastava, Geoffrey E Hinton, Alex Krizhevsky, Ilya Sutskever, and Ruslan Salakhutdi-\\nnov. Dropout: a simple way to prevent neural networks from overfitting. Journal of Machine\\nLearning Research, 15(1):1929–1958, 2014.\\n[34] Sainbayar Sukhbaatar, Arthur Szlam, Jason Weston, and Rob Fergus. End-to-end memory\\nnetworks. In C. Cortes, N. D. Lawrence, D. D. Lee, M. Sugiyama, and R. Garnett, editors,\\nAdvances in Neural Information Processing Systems 28, pages 2440–2448. Curran Associates,\\nInc., 2015.\\n[35] Ilya Sutskever, Oriol Vinyals, and Quoc VV Le. Sequence to sequence learning with neural\\nnetworks. In Advances in Neural Information Processing Systems, pages 3104–3112, 2014.\\n[36] Christian Szegedy, Vincent Vanhoucke, Sergey Ioffe, Jonathon Shlens, and Zbigniew Wojna.\\nRethinking the inception architecture for computer vision. CoRR, abs/1512.00567, 2015.\\n[37] Vinyals & Kaiser, Koo, Petrov, Sutskever, and Hinton. Grammar as a foreign language. In\\nAdvances in Neural Information Processing Systems, 2015.\\n[38] Yonghui Wu, Mike Schuster, Zhifeng Chen, Quoc V Le, Mohammad Norouzi, Wolfgang\\nMacherey, Maxim Krikun, Yuan Cao, Qin Gao, Klaus Macherey, et al. Google’s neural machine\\ntranslation system: Bridging the gap between human and machine translation. arXiv preprint\\narXiv:1609.08144, 2016.\\n[39] Jie Zhou, Ying Cao, Xuguang Wang, Peng Li, and Wei Xu. Deep recurrent models with\\nfast-forward connections for neural machine translation. CoRR, abs/1606.04199, 2016.\\n[40] Muhua Zhu, Yue Zhang, Wenliang Chen, Min Zhang, and Jingbo Zhu. Fast and accurate\\nshift-reduce constituent parsing. In Proceedings of the 51st Annual Meeting of the ACL (Volume\\n1: Long Papers), pages 434–443. ACL, August 2013.\\n12\\n\\nAttention Visualizations\\nIt\\nis\\nin\\nthis\\nspirit\\nthat\\na\\nmajority\\nof\\nAmerican\\ngovernments\\nhave\\npassed\\nnew\\nlaws\\nsince\\n2009\\nmaking\\nthe\\nregistration\\nor\\nvoting\\nprocess\\nmore\\ndifficult\\n.\\n<EOS>\\n<pad>\\n<pad>\\n<pad>\\n<pad>\\n<pad>\\n<pad>\\nIt\\nis\\nin\\nthis\\nspirit\\nthat\\na\\nmajority\\nof\\nAmerican\\ngovernments\\nhave\\npassed\\nnew\\nlaws\\nsince\\n2009\\nmaking\\nthe\\nregistration\\nor\\nvoting\\nprocess\\nmore\\ndifficult\\n.\\n<EOS>\\n<pad>\\n<pad>\\n<pad>\\n<pad>\\n<pad>\\n<pad>\\nFigure 3: An example of the attention mechanism following long-distance dependencies in the\\nencoder self-attention in layer 5 of 6. Many of the attention heads attend to a distant dependency of\\nthe verb ‘making’, completing the phrase ‘making...more difficult’. Attentions here shown only for\\nthe word ‘making’. Different colors represent different heads. Best viewed in color.\\n13\\n\\nThe\\nLaw\\nwill\\nnever\\nbe\\nperfect\\n,\\nbut\\nits\\napplication\\nshould\\nbe\\njust\\n-\\nthis\\nis\\nwhat\\nwe\\nare\\nmissing\\n,\\nin\\nmy\\nopinion\\n.\\n<EOS>\\n<pad>\\nThe\\nLaw\\nwill\\nnever\\nbe\\nperfect\\n,\\nbut\\nits\\napplication\\nshould\\nbe\\njust\\n-\\nthis\\nis\\nwhat\\nwe\\nare\\nmissing\\n,\\nin\\nmy\\nopinion\\n.\\n<EOS>\\n<pad>\\nThe\\nLaw\\nwill\\nnever\\nbe\\nperfect\\n,\\nbut\\nits\\napplication\\nshould\\nbe\\njust\\n-\\nthis\\nis\\nwhat\\nwe\\nare\\nmissing\\n,\\nin\\nmy\\nopinion\\n.\\n<EOS>\\n<pad>\\nThe\\nLaw\\nwill\\nnever\\nbe\\nperfect\\n,\\nbut\\nits\\napplication\\nshould\\nbe\\njust\\n-\\nthis\\nis\\nwhat\\nwe\\nare\\nmissing\\n,\\nin\\nmy\\nopinion\\n.\\n<EOS>\\n<pad>\\nFigure 4: Two attention heads, also in layer 5 of 6, apparently involved in anaphora resolution. Top:\\nFull attentions for head 5. Bottom: Isolated attentions from just the word ‘its’ for attention heads 5\\nand 6. Note that the attentions are very sharp for this word.\\n14\\n\\nThe\\nLaw\\nwill\\nnever\\nbe\\nperfect\\n,\\nbut\\nits\\napplication\\nshould\\nbe\\njust\\n-\\nthis\\nis\\nwhat\\nwe\\nare\\nmissing\\n,\\nin\\nmy\\nopinion\\n.\\n<EOS>\\n<pad>\\nThe\\nLaw\\nwill\\nnever\\nbe\\nperfect\\n,\\nbut\\nits\\napplication\\nshould\\nbe\\njust\\n-\\nthis\\nis\\nwhat\\nwe\\nare\\nmissing\\n,\\nin\\nmy\\nopinion\\n.\\n<EOS>\\n<pad>\\nThe\\nLaw\\nwill\\nnever\\nbe\\nperfect\\n,\\nbut\\nits\\napplication\\nshould\\nbe\\njust\\n-\\nthis\\nis\\nwhat\\nwe\\nare\\nmissing\\n,\\nin\\nmy\\nopinion\\n.\\n<EOS>\\n<pad>\\nThe\\nLaw\\nwill\\nnever\\nbe\\nperfect\\n,\\nbut\\nits\\napplication\\nshould\\nbe\\njust\\n-\\nthis\\nis\\nwhat\\nwe\\nare\\nmissing\\n,\\nin\\nmy\\nopinion\\n.\\n<EOS>\\n<pad>\\nFigure 5: Many of the attention heads exhibit behaviour that seems related to the structure of the\\nsentence. We give two such examples above, from two different heads from the encoder self-attention\\nat layer 5 of 6. The heads clearly learned to perform different tasks.\\n15\\n'"
      ]
     },
     "execution_count": 373,
     "metadata": {},
     "output_type": "execute_result"
    }
   ],
   "source": [
    "state_output[\"extracted_text\"]"
   ]
  },
  {
   "cell_type": "code",
   "execution_count": 374,
   "metadata": {},
   "outputs": [
    {
     "data": {
      "text/plain": [
       "str"
      ]
     },
     "execution_count": 374,
     "metadata": {},
     "output_type": "execute_result"
    }
   ],
   "source": [
    "type(state_output[\"summary_text\"].content)"
   ]
  },
  {
   "cell_type": "code",
   "execution_count": 375,
   "metadata": {},
   "outputs": [
    {
     "data": {
      "text/plain": [
       "dict"
      ]
     },
     "execution_count": 375,
     "metadata": {},
     "output_type": "execute_result"
    }
   ],
   "source": [
    "type(state_output[\"convo\"])"
   ]
  },
  {
   "cell_type": "code",
   "execution_count": 376,
   "metadata": {},
   "outputs": [
    {
     "data": {
      "text/plain": [
       "dict"
      ]
     },
     "execution_count": 376,
     "metadata": {},
     "output_type": "execute_result"
    }
   ],
   "source": [
    "type(state_output[\"ppt_object\"])"
   ]
  },
  {
   "cell_type": "markdown",
   "metadata": {},
   "source": [
    "## PPT Generation"
   ]
  },
  {
   "cell_type": "code",
   "execution_count": 377,
   "metadata": {},
   "outputs": [
    {
     "name": "stdout",
     "output_type": "stream",
     "text": [
      "{'title': 'Introduction', 'bullet_points': ['Problem: Existing sequence transduction models (RNNs, CNNs) are inherently sequential, limiting parallelization and training speed.', 'Objectives: Propose a new architecture, the Transformer, based solely on attention mechanisms.', 'Motivation: Achieve superior translation quality with increased parallelization and faster training.'], 'notes': None, 'images': None}\n"
     ]
    }
   ],
   "source": [
    "ppt_content = state_output[\"ppt_object\"]\n",
    "# print(ppt_content)\n",
    "print(ppt_content[\"slides\"][1])"
   ]
  },
  {
   "cell_type": "code",
   "execution_count": 378,
   "metadata": {},
   "outputs": [
    {
     "data": {
      "text/plain": [
       "['extracted_images/page_3_img_1.png',\n",
       " 'extracted_images/page_4_img_1.png',\n",
       " 'extracted_images/page_4_img_2.png']"
      ]
     },
     "execution_count": 378,
     "metadata": {},
     "output_type": "execute_result"
    }
   ],
   "source": [
    "list(state_output[\"extracted_images\"].values())"
   ]
  },
  {
   "cell_type": "code",
   "execution_count": 379,
   "metadata": {},
   "outputs": [
    {
     "name": "stdout",
     "output_type": "stream",
     "text": [
      "Fig1 extracted_images/page_3_img_1.png\n",
      "Fig2 extracted_images/page_4_img_1.png\n",
      "Fig3 extracted_images/page_4_img_2.png\n"
     ]
    }
   ],
   "source": [
    "for key,value in state_output[\"extracted_images\"].items():\n",
    "    print(key,value)"
   ]
  },
  {
   "cell_type": "code",
   "execution_count": 380,
   "metadata": {},
   "outputs": [
    {
     "data": {
      "text/plain": [
       "True"
      ]
     },
     "execution_count": 380,
     "metadata": {},
     "output_type": "execute_result"
    }
   ],
   "source": [
    "os.path.exists('extracted_images/page_1_img_1.jpeg')"
   ]
  },
  {
   "cell_type": "code",
   "execution_count": 381,
   "metadata": {},
   "outputs": [
    {
     "data": {
      "text/plain": [
       "[{'title': 'Title Slide',\n",
       "  'bullet_points': ['Attention Is All You Need',\n",
       "   'Ashish Vaswani, Noam Shazeer, Niki Parmar, Jakob Uszkoreit, Llion Jones, Aidan N. Gomez, Łukasz Kaiser, Illia Polosukhin',\n",
       "   'Google Brain, Google Research, University of Toronto'],\n",
       "  'notes': None,\n",
       "  'images': None},\n",
       " {'title': 'Introduction',\n",
       "  'bullet_points': ['Problem: Existing sequence transduction models (RNNs, CNNs) are inherently sequential, limiting parallelization and training speed.',\n",
       "   'Objectives: Propose a new architecture, the Transformer, based solely on attention mechanisms.',\n",
       "   'Motivation: Achieve superior translation quality with increased parallelization and faster training.'],\n",
       "  'notes': None,\n",
       "  'images': None},\n",
       " {'title': 'Methods',\n",
       "  'bullet_points': ['Methodology: Transformer architecture based entirely on self-attention mechanisms.',\n",
       "   'Datasets: WMT 2014 English-German and English-French translation tasks, Penn Treebank for English constituency parsing.',\n",
       "   'Experimental Setup: Trained on multiple GPUs, using Adam optimizer, various regularization techniques (dropout, label smoothing).'],\n",
       "  'notes': None,\n",
       "  'images': None},\n",
       " {'title': 'Results',\n",
       "  'bullet_points': ['Machine Translation: Achieved state-of-the-art BLEU scores on WMT 2014 English-to-German (28.4) and English-to-French (41.8) tasks.',\n",
       "   'Significant improvement over existing models, including ensembles, with substantially reduced training time.',\n",
       "   'Table 2: Summarizes BLEU scores and training costs compared to other models.',\n",
       "   'Table 3: Shows the impact of different architectural choices on performance.',\n",
       "   'English Constituency Parsing: Achieved competitive results on English constituency parsing, outperforming previous models in both small and large data settings.',\n",
       "   'Table 4: Presents parsing results compared to other models.'],\n",
       "  'notes': 'Highlight the significant improvements in BLEU scores and training efficiency.  Emphasize the generalization to other tasks.',\n",
       "  'images': ['Table 2', 'Table 3', 'Table 4']},\n",
       " {'title': 'Graphics',\n",
       "  'bullet_points': ['Fig 1: The Transformer model architecture.',\n",
       "   'Fig 2: Scaled Dot-Product Attention and Multi-Head Attention.',\n",
       "   'Fig 3: Example of attention mechanism following long-distance dependencies.',\n",
       "   'Fig 4: Attention heads involved in anaphora resolution.',\n",
       "   'Fig 5: Attention heads exhibiting behavior related to sentence structure.'],\n",
       "  'notes': None,\n",
       "  'images': ['Fig 1', 'Fig 2', 'Fig 3', 'Fig 4', 'Fig 5']},\n",
       " {'title': 'Discussion',\n",
       "  'bullet_points': [\"Significance: The Transformer's superior performance and efficiency demonstrate the potential of attention-based models for sequence transduction.\",\n",
       "   'Comparison with Prior Work: Outperforms existing RNN and CNN-based models in both translation quality and training speed.',\n",
       "   \"Interpretability: Attention visualizations reveal insights into the model's internal workings, showing attention to syntactic and semantic structures.\"],\n",
       "  'notes': 'Discuss the implications of the findings and compare them to related work.  Mention the interpretability aspect.',\n",
       "  'images': None},\n",
       " {'title': 'Conclusion',\n",
       "  'bullet_points': ['Key Takeaways: The Transformer, a novel architecture based solely on attention mechanisms, achieves state-of-the-art results in machine translation and generalizes well to other tasks.',\n",
       "   'Future Work: Explore applications to other modalities (images, audio, video), investigate local attention mechanisms for efficiency, and improve the sequentiality of generation.'],\n",
       "  'notes': None,\n",
       "  'images': None},\n",
       " {'title': 'References',\n",
       "  'bullet_points': ['[1] Jimmy Lei Ba, Jamie Ryan Kiros, and Geoffrey E Hinton. Layer normalization. arXiv preprint arXiv:1607.06450, 2016.',\n",
       "   '[2] Dzmitry Bahdanau, Kyunghyun Cho, and Yoshua Bengio. Neural machine translation by jointly learning to align and translate. CoRR, abs/1409.0473, 2014.',\n",
       "   '... (List remaining references)'],\n",
       "  'notes': None,\n",
       "  'images': None}]"
      ]
     },
     "execution_count": 381,
     "metadata": {},
     "output_type": "execute_result"
    }
   ],
   "source": [
    "ppt_content[\"slides\"]"
   ]
  },
  {
   "cell_type": "code",
   "execution_count": 382,
   "metadata": {},
   "outputs": [
    {
     "name": "stdout",
     "output_type": "stream",
     "text": [
      "PowerPoint presentation saved as static/new_one.pptx\n"
     ]
    }
   ],
   "source": [
    "from pptx import Presentation\n",
    "from pptx.util import Pt, Inches\n",
    "from pptx.enum.text import PP_ALIGN, MSO_ANCHOR, MSO_AUTO_SIZE\n",
    "from pptx.dml.color import RGBColor\n",
    "\n",
    "class ThemeConfig:\n",
    "    def __init__(self, name=\"modern\"):\n",
    "        themes = {\n",
    "            \"modern\": {\n",
    "                \"background\": RGBColor(30, 30, 30),  # Dark gray background\n",
    "                \"title\": RGBColor(255, 215, 0),  # Gold title text\n",
    "                \"body\": RGBColor(200, 200, 200),  # Light gray body text\n",
    "                \"title_font\": \"Montserrat\",\n",
    "                \"body_font\": \"Lato\",\n",
    "            },\n",
    "            \"vintage\": {\n",
    "                \"background\": RGBColor(245, 222, 179),  # Wheat background\n",
    "                \"title\": RGBColor(139, 69, 19),  # Saddle brown title\n",
    "                \"body\": RGBColor(105, 105, 105),  # Dim gray text\n",
    "                \"title_font\": \"Georgia\",\n",
    "                \"body_font\": \"Times New Roman\",\n",
    "            },\n",
    "            \"corporate\": {\n",
    "                \"background\": RGBColor(255, 255, 255),  # White background\n",
    "                \"title\": RGBColor(0, 51, 102),  # Navy blue title\n",
    "                \"body\": RGBColor(51, 51, 51),  # Dark gray body text\n",
    "                \"title_font\": \"Arial\",\n",
    "                \"body_font\": \"Verdana\",\n",
    "            },\n",
    "            \"minimal\": {\n",
    "                \"background\": RGBColor(240, 240, 240),  # Light gray background\n",
    "                \"title\": RGBColor(50, 50, 50),  # Dark gray title\n",
    "                \"body\": RGBColor(80, 80, 80),  # Slightly lighter gray for body\n",
    "                \"title_font\": \"Helvetica\",\n",
    "                \"body_font\": \"Sans-Serif\",\n",
    "            },\n",
    "            \"bold\": {\n",
    "                \"background\": RGBColor(0, 0, 0),  # Black background\n",
    "                \"title\": RGBColor(255, 0, 0),  # Red title text\n",
    "                \"body\": RGBColor(255, 255, 255),  # White body text\n",
    "                \"title_font\": \"Impact\",\n",
    "                \"body_font\": \"Arial Black\",\n",
    "            }\n",
    "        }\n",
    "        self.theme = themes.get(name, themes[\"minimal\"])\n",
    "\n",
    "def apply_background(slide, color):\n",
    "    \"\"\"Apply background color to a slide\"\"\"\n",
    "    background = slide.background\n",
    "    fill = background.fill\n",
    "    fill.solid()\n",
    "    fill.fore_color.rgb = color\n",
    "\n",
    "def create_ppt_from_dict(ppt_data: dict, image_mapping: dict, theme_name: str=\"default\", output_file: str = \"presentation.pptx\"):\n",
    "    prs = Presentation()\n",
    "    theme = ThemeConfig(theme_name)\n",
    "\n",
    "    slide_width = prs.slide_width\n",
    "    slide_height = prs.slide_height\n",
    "\n",
    "    # Title Slide Fix\n",
    "    title_slide_layout = prs.slide_layouts[0]  # Title slide layout\n",
    "    title_slide = prs.slides.add_slide(title_slide_layout)\n",
    "    apply_background(title_slide, theme.theme[\"background\"])\n",
    "    # Set title\n",
    "    title = title_slide.shapes.title\n",
    "    title.text = ppt_data['title']\n",
    "    title_para = title.text_frame.paragraphs[0]\n",
    "    title_para.font.size = Pt(40)\n",
    "    title_para.font.name = theme.theme[\"title_font\"]\n",
    "    title_para.font.color.rgb = theme.theme[\"title\"]\n",
    "    title_para.alignment = PP_ALIGN.CENTER\n",
    "\n",
    "    # Set subtitle (authors and institutions)\n",
    "    subtitle = title_slide.placeholders[1]\n",
    "    subtitle.text_frame.clear()  # Clear default placeholder text\n",
    "\n",
    "    # Add authors as one paragraph\n",
    "    authors_para = subtitle.text_frame.add_paragraph()\n",
    "    authors_para.text = \", \".join(ppt_data['authors'])\n",
    "    authors_para.font.size = Pt(18)\n",
    "    authors_para.font.name = theme.theme[\"body_font\"]\n",
    "    authors_para.font.color.rgb = theme.theme[\"body\"]\n",
    "    authors_para.alignment = PP_ALIGN.CENTER\n",
    "\n",
    "    # Add institution as a separate paragraph\n",
    "    institution_para = subtitle.text_frame.add_paragraph()\n",
    "    institution_para.text = \"\".join(ppt_data['institution'])\n",
    "    institution_para.font.size = Pt(16)  # Slightly smaller font\n",
    "    institution_para.font.name = theme.theme[\"body_font\"]\n",
    "    institution_para.font.color.rgb = theme.theme[\"body\"]\n",
    "    institution_para.alignment = PP_ALIGN.CENTER\n",
    "\n",
    "    # Ensure the text fits within the shape\n",
    "    subtitle.text_frame.auto_size = MSO_AUTO_SIZE.SHAPE_TO_FIT_TEXT\n",
    "    subtitle.text_frame.word_wrap = True\n",
    "\n",
    "    # Add content slides\n",
    "    for i in range(1, len(ppt_data[\"slides\"])):\n",
    "        slide_data = ppt_data[\"slides\"][i]\n",
    "        title_text = slide_data.get(\"title\", \"\")\n",
    "\n",
    "        # Detect Graphics/Graphs Slide\n",
    "        is_graphics_slide = \"graphics\" in title_text.lower() or \"graphs slide\" in title_text.lower()\n",
    "\n",
    "        # Use a blank layout for Graphics slides\n",
    "        slide_layout =  prs.slide_layouts[1]\n",
    "        slide = prs.slides.add_slide(slide_layout)\n",
    "        apply_background(slide, theme.theme[\"background\"])\n",
    "\n",
    "        if not is_graphics_slide:\n",
    "            title = slide.shapes.title\n",
    "            title.text = title_text\n",
    "            title_para = title.text_frame.paragraphs[0]\n",
    "            title_para.font.size = Pt(32)\n",
    "            title_para.font.name = theme.theme[\"title_font\"]\n",
    "            title_para.font.color.rgb = theme.theme[\"title\"]\n",
    "        # Handling Graphics/Graphs Slide\n",
    "        \n",
    "        if is_graphics_slide and \"images\" in slide_data:\n",
    "            image_filenames = slide_data[\"images\"]\n",
    "            image_paths = [image_mapping.get(fig.replace(\".\", \"\").replace(\" \", \"\")) for fig in image_filenames]\n",
    "            image_paths = [img for img in image_paths if img and os.path.exists(img)]  # Remove missing files\n",
    "    \n",
    "            num_images = len(image_paths)\n",
    "    \n",
    "            # Get theme colors\n",
    "            caption_font = theme.theme[\"body_font\"]\n",
    "            caption_color = theme.theme[\"body\"]\n",
    "    \n",
    "            # Define positioning based on number of images\n",
    "            if num_images == 1:\n",
    "                left, top, width, height = Inches(1.5), Inches(1.5), Inches(7), Inches(5)\n",
    "                img_shape = slide.shapes.add_picture(image_paths[0], left, top, width=width, height=height)\n",
    "                caption_left = left + width / 2 - Inches(0.5)\n",
    "                caption_top = top + height + Inches(0.2)\n",
    "    \n",
    "                # Add caption\n",
    "                caption = slide.shapes.add_textbox(caption_left, caption_top, Inches(1), Inches(0.5))\n",
    "                text_frame = caption.text_frame\n",
    "                text_frame.text = image_filenames[0]\n",
    "                para = text_frame.paragraphs[0]\n",
    "                para.font.size = Pt(14)\n",
    "                para.font.name = caption_font\n",
    "                para.font.color.rgb = caption_color\n",
    "                para.alignment = PP_ALIGN.CENTER\n",
    "    \n",
    "            elif num_images == 2:\n",
    "                positions = [(Inches(1), Inches(2)), (Inches(5.5), Inches(2))]\n",
    "                size = (Inches(4), Inches(3))\n",
    "    \n",
    "                for i, img_path in enumerate(image_paths[:2]):\n",
    "                    img_left, img_top = positions[i]\n",
    "                    img_shape = slide.shapes.add_picture(img_path, img_left, img_top, *size)\n",
    "    \n",
    "                    # Add caption\n",
    "                    caption_left = img_left + size[0] / 2 - Inches(0.5)\n",
    "                    caption_top = img_top + size[1] + Inches(0.2)\n",
    "                    caption = slide.shapes.add_textbox(caption_left, caption_top, Inches(1), Inches(0.5))\n",
    "                    text_frame = caption.text_frame\n",
    "                    text_frame.text = image_filenames[i]\n",
    "                    para = text_frame.paragraphs[0]\n",
    "                    para.font.size = Pt(14)\n",
    "                    para.font.name = caption_font\n",
    "                    para.font.color.rgb = caption_color\n",
    "                    para.alignment = PP_ALIGN.CENTER\n",
    "    \n",
    "            elif num_images >= 3:\n",
    "                positions = [\n",
    "                    (Inches(1), Inches(1.5)), (Inches(5), Inches(1.5)),\n",
    "                    (Inches(3), Inches(4))\n",
    "                ]\n",
    "                size = (Inches(3.5), Inches(2.5))\n",
    "    \n",
    "                for i, img_path in enumerate(image_paths[:3]):\n",
    "                    img_left, img_top = positions[i]\n",
    "                    img_shape = slide.shapes.add_picture(img_path, img_left, img_top, *size)\n",
    "    \n",
    "                    # Add caption\n",
    "                    caption_left = img_left + size[0] / 2 - Inches(0.5)\n",
    "                    caption_top = img_top + size[1] + Inches(0.2)\n",
    "                    caption = slide.shapes.add_textbox(caption_left, caption_top, Inches(1), Inches(0.5))\n",
    "                    text_frame = caption.text_frame\n",
    "                    text_frame.text = image_filenames[i]\n",
    "                    para = text_frame.paragraphs[0]\n",
    "                    para.font.size = Pt(14)\n",
    "                    para.font.name = caption_font\n",
    "                    para.font.color.rgb = caption_color\n",
    "                    para.alignment = PP_ALIGN.CENTER\n",
    "\n",
    "        else: \n",
    "            bullet_points = slide_data.get(\"bullet_points\", [])\n",
    "            content_placeholder = slide.placeholders[1]\n",
    "            text_frame = content_placeholder.text_frame\n",
    "            text_frame.clear()\n",
    "            if bullet_points:\n",
    "                text_frame = content_placeholder.text_frame\n",
    "                text_frame.clear()  # Remove default placeholder text\n",
    "                text_frame.word_wrap = True  # Enable text wrapping\n",
    "                text_frame.auto_size = MSO_AUTO_SIZE.SHAPE_TO_FIT_TEXT  # Enable auto size for content\n",
    "                # Set default font size based on slide type\n",
    "                is_references = \"references\" in slide_data.get(\"title\", \"\").lower()\n",
    "                DEFAULT_FONT_SIZE = 12 if is_references else 20\n",
    "            for point in slide_data['bullet_points']:\n",
    "                paragraph = text_frame.add_paragraph()\n",
    "                paragraph.text = point\n",
    "                paragraph.font.size = Pt(DEFAULT_FONT_SIZE)\n",
    "                paragraph.font.name = theme.theme[\"body_font\"]\n",
    "                paragraph.font.color.rgb = theme.theme[\"body\"]\n",
    "                \n",
    "\n",
    "    # Save PowerPoint file\n",
    "    prs.save(output_file)\n",
    "    print(f\"PowerPoint presentation saved as {output_file}\")\n",
    "\n",
    "create_ppt_from_dict(ppt_content, state_output[\"extracted_images\"], \"modern\", \"static/new_one.pptx\")"
   ]
  },
  {
   "cell_type": "markdown",
   "metadata": {},
   "source": [
    "## TTS"
   ]
  }
 ],
 "metadata": {
  "kernelspec": {
   "display_name": "venv",
   "language": "python",
   "name": "python3"
  },
  "language_info": {
   "codemirror_mode": {
    "name": "ipython",
    "version": 3
   },
   "file_extension": ".py",
   "mimetype": "text/x-python",
   "name": "python",
   "nbconvert_exporter": "python",
   "pygments_lexer": "ipython3",
   "version": "3.12.0"
  }
 },
 "nbformat": 4,
 "nbformat_minor": 2
}
